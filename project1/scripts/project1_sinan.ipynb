{
 "cells": [
  {
   "cell_type": "code",
   "execution_count": 10,
   "metadata": {},
   "outputs": [
    {
     "name": "stdout",
     "output_type": "stream",
     "text": [
      "The autoreload extension is already loaded. To reload it, use:\n",
      "  %reload_ext autoreload\n"
     ]
    }
   ],
   "source": [
    "# Useful starting lines\n",
    "%matplotlib inline\n",
    "import numpy as np\n",
    "import matplotlib.pyplot as plt\n",
    "%load_ext autoreload\n",
    "%autoreload 2"
   ]
  },
  {
   "cell_type": "markdown",
   "metadata": {},
   "source": [
    "## Load the training data into feature matrix, class labels, and event ids:"
   ]
  },
  {
   "cell_type": "code",
   "execution_count": 20,
   "metadata": {
    "collapsed": false,
    "jupyter": {
     "outputs_hidden": false
    }
   },
   "outputs": [],
   "source": [
    "from proj1_helpers import *\n",
    "DATA_TRAIN_PATH = 'C:/Users/samsung/ML_Projects/project1/data/train/train.csv' # TODO: download train data and supply path here \n",
    "y, tX, ids = load_csv_data(DATA_TRAIN_PATH)"
   ]
  },
  {
   "cell_type": "markdown",
   "metadata": {},
   "source": [
    "## Understand the dataset"
   ]
  },
  {
   "cell_type": "code",
   "execution_count": 36,
   "metadata": {},
   "outputs": [
    {
     "name": "stdout",
     "output_type": "stream",
     "text": [
      "X shape :  (250000, 30) ||| Y shape :  (250000,) ||| ids shape :  (250000,)\n",
      "y takes value in :  [-1.  1.]\n"
     ]
    }
   ],
   "source": [
    "#Firt let's see the shape of our dataset\n",
    "print('X shape : ', tX.shape, '||| Y shape : ', y.shape, '||| ids shape : ', ids.shape)\n",
    "\n",
    "#Let's see what values take y :\n",
    "print('y takes value in : ',np.unique(y)) #we suppose -1 means that the boson haven't been observed, and 1 mean the opposite"
   ]
  },
  {
   "cell_type": "markdown",
   "metadata": {},
   "source": [
    "We suppose -1 means that the boson haven't been observed : background, and 1 mean the opposite : signal. Therefore the logistic regression seems to be the most adapted method, as we saw in the course.\n",
    "\n",
    "Then let's see if the data contains NaN values"
   ]
  },
  {
   "cell_type": "code",
   "execution_count": 37,
   "metadata": {},
   "outputs": [
    {
     "name": "stdout",
     "output_type": "stream",
     "text": [
      "y has NaN values ? False\n",
      "tX has NaN values ? False\n",
      "ids has NaN values ? False\n"
     ]
    },
    {
     "name": "stderr",
     "output_type": "stream",
     "text": [
      "<ipython-input-37-f0be0e45293c>:3: RuntimeWarning: overflow encountered in long_scalars\n",
      "  print('ids has NaN values ?', np.isnan(sum(ids)))\n"
     ]
    }
   ],
   "source": [
    "print('y has NaN values ?',np.isnan(sum(y)))\n",
    "print('tX has NaN values ?',np.isnan(sum(sum(tX)))) #tX has 2 dimensions so we sum over the two dimensions\n",
    "print('ids has NaN values ?', np.isnan(sum(ids)))"
   ]
  },
  {
   "cell_type": "markdown",
   "metadata": {},
   "source": [
    "# Algorithms :\n",
    "\n",
    "**1.Least squares with Gradient Descent**"
   ]
  },
  {
   "cell_type": "code",
   "execution_count": 118,
   "metadata": {},
   "outputs": [
    {
     "name": "stdout",
     "output_type": "stream",
     "text": [
      "for gamma = 0.7, the loss is : 7.205917367667047e+130\n",
      "for gamma = 0.1, the loss is : 9.030576889717339e+113\n",
      "for gamma = 1e-05, the loss is : 6.352294868370576e+33\n",
      "for gamma = 1e-06, the loss is : 1955885360767.4146\n",
      "for gamma = 5e-07, the loss is : 16217.552088303575\n",
      "for gamma = 3e-07, the loss is : 0.4253062112549612\n",
      "for gamma = 1e-07, the loss is : 0.432824131368163\n",
      "for gamma = 1e-08, the loss is : 0.4569725509407111\n"
     ]
    }
   ],
   "source": [
    "from implementations import *\n",
    "\n",
    "\n",
    "#Least Squares - GD\n",
    "max_iters = 10 \n",
    "gammas = [0.7, 0.1, 1e-5, 1e-6, 5e-7, 3e-7, 1e-7, 1e-8] #by testing the results: this seems to be the optimal value\n",
    "initial_w = np.zeros((tX.shape[1],)) #number of parameters = number of features of x\n",
    "\n",
    "for gamma in gammas:\n",
    "    w_lsGD, loss_lsGD= least_squares_GD(y, tX, initial_w, max_iters, gamma)\n",
    "    print('for gamma = {}, the loss is : {}'.format(gamma,loss_lsGD))\n",
    "\n",
    "#We see the best result is for gamma = 3e-7, let's save the loss for this value of gamma and a higher number of iterations\n",
    "max_iters = 30 \n",
    "gamma = 3e-7\n",
    "w_lsGD, loss_lsGD= least_squares_GD(y, tX, initial_w, max_iters, gamma)"
   ]
  },
  {
   "cell_type": "markdown",
   "metadata": {},
   "source": [
    "Takes a long time to run, let's see the results for gamma = 3e-7"
   ]
  },
  {
   "cell_type": "code",
   "execution_count": 119,
   "metadata": {},
   "outputs": [
    {
     "name": "stdout",
     "output_type": "stream",
     "text": [
      "loss : 0.4162397243972803\n",
      "weights : [ 3.67792221e-04 -9.67101290e-05 -3.66246121e-05  9.31973035e-06\n",
      "  1.89374476e-05  1.71686163e-04  1.63451202e-05 -4.69462445e-07\n",
      " -2.00833520e-05 -6.34538290e-05 -1.96391984e-06  1.50200694e-06\n",
      "  1.85905091e-05  2.11952198e-05 -2.24096443e-08 -6.73314380e-08\n",
      " -3.07697829e-05 -1.70168484e-08  4.91038347e-08 -1.99995662e-05\n",
      "  8.88292225e-08 -9.06824590e-05 -9.70587418e-07  4.05086516e-05\n",
      "  5.09123889e-05  5.09077747e-05 -3.43022887e-06  1.84643781e-05\n",
      "  1.84259486e-05 -5.38792550e-05]\n"
     ]
    }
   ],
   "source": [
    "print('loss : {}'.format(loss_lsGD))\n",
    "print('weights :',w_lsGD)"
   ]
  },
  {
   "cell_type": "markdown",
   "metadata": {},
   "source": [
    "**2.Least squares with SGD**"
   ]
  },
  {
   "cell_type": "code",
   "execution_count": 120,
   "metadata": {},
   "outputs": [
    {
     "ename": "TypeError",
     "evalue": "object of type 'numpy.float64' has no len()",
     "output_type": "error",
     "traceback": [
      "\u001b[1;31m---------------------------------------------------------------------------\u001b[0m",
      "\u001b[1;31mTypeError\u001b[0m                                 Traceback (most recent call last)",
      "\u001b[1;32m<ipython-input-120-c7f392f8bebf>\u001b[0m in \u001b[0;36m<module>\u001b[1;34m\u001b[0m\n\u001b[0;32m      4\u001b[0m \u001b[1;33m\u001b[0m\u001b[0m\n\u001b[0;32m      5\u001b[0m \u001b[1;32mfor\u001b[0m \u001b[0mgamma\u001b[0m \u001b[1;32min\u001b[0m \u001b[0mgammas\u001b[0m\u001b[1;33m:\u001b[0m\u001b[1;33m\u001b[0m\u001b[1;33m\u001b[0m\u001b[0m\n\u001b[1;32m----> 6\u001b[1;33m     \u001b[0mw_lsSGD\u001b[0m\u001b[1;33m,\u001b[0m \u001b[0mloss_lsSGD\u001b[0m\u001b[1;33m=\u001b[0m \u001b[0mleast_squares_SGD\u001b[0m\u001b[1;33m(\u001b[0m\u001b[0my\u001b[0m\u001b[1;33m,\u001b[0m \u001b[0mtX\u001b[0m\u001b[1;33m,\u001b[0m \u001b[0minitial_w\u001b[0m\u001b[1;33m,\u001b[0m \u001b[0mmax_iters\u001b[0m\u001b[1;33m,\u001b[0m \u001b[0mgamma\u001b[0m\u001b[1;33m)\u001b[0m\u001b[1;33m\u001b[0m\u001b[1;33m\u001b[0m\u001b[0m\n\u001b[0m\u001b[0;32m      7\u001b[0m     \u001b[0mprint\u001b[0m\u001b[1;33m(\u001b[0m\u001b[1;34m'for gamma = {}, the loss is : {}'\u001b[0m\u001b[1;33m.\u001b[0m\u001b[0mformat\u001b[0m\u001b[1;33m(\u001b[0m\u001b[0mgamma\u001b[0m\u001b[1;33m,\u001b[0m\u001b[0mloss_lsSGD\u001b[0m\u001b[1;33m)\u001b[0m\u001b[1;33m)\u001b[0m\u001b[1;33m\u001b[0m\u001b[1;33m\u001b[0m\u001b[0m\n",
      "\u001b[1;32m~\\ML_Projects\\project1\\scripts\\implementations.py\u001b[0m in \u001b[0;36mleast_squares_SGD\u001b[1;34m(y, tx, initial_w, max_iters, gamma)\u001b[0m\n\u001b[0;32m    117\u001b[0m \u001b[1;33m\u001b[0m\u001b[0m\n\u001b[0;32m    118\u001b[0m         \u001b[1;31m# Compute the (stochastic approximation of the) gradient evaluated at the current point w\u001b[0m\u001b[1;33m\u001b[0m\u001b[1;33m\u001b[0m\u001b[1;33m\u001b[0m\u001b[0m\n\u001b[1;32m--> 119\u001b[1;33m         \u001b[0mgrad\u001b[0m \u001b[1;33m=\u001b[0m \u001b[0mcompute_mse_gradient\u001b[0m\u001b[1;33m(\u001b[0m\u001b[0my_sub\u001b[0m\u001b[1;33m,\u001b[0m \u001b[0mtx_sub\u001b[0m\u001b[1;33m,\u001b[0m \u001b[0mw\u001b[0m\u001b[1;33m)\u001b[0m\u001b[1;33m\u001b[0m\u001b[1;33m\u001b[0m\u001b[0m\n\u001b[0m\u001b[0;32m    120\u001b[0m \u001b[1;33m\u001b[0m\u001b[0m\n\u001b[0;32m    121\u001b[0m         \u001b[1;31m# Update w, and the corresponding loss\u001b[0m\u001b[1;33m\u001b[0m\u001b[1;33m\u001b[0m\u001b[1;33m\u001b[0m\u001b[0m\n",
      "\u001b[1;32m~\\ML_Projects\\project1\\scripts\\implementations.py\u001b[0m in \u001b[0;36mcompute_mse_gradient\u001b[1;34m(y, tx, w)\u001b[0m\n\u001b[0;32m     20\u001b[0m \u001b[1;32mdef\u001b[0m \u001b[0mcompute_mse_gradient\u001b[0m\u001b[1;33m(\u001b[0m\u001b[0my\u001b[0m\u001b[1;33m,\u001b[0m \u001b[0mtx\u001b[0m\u001b[1;33m,\u001b[0m \u001b[0mw\u001b[0m\u001b[1;33m)\u001b[0m\u001b[1;33m:\u001b[0m\u001b[1;33m\u001b[0m\u001b[1;33m\u001b[0m\u001b[0m\n\u001b[0;32m     21\u001b[0m     \u001b[0me\u001b[0m \u001b[1;33m=\u001b[0m \u001b[0my\u001b[0m \u001b[1;33m-\u001b[0m \u001b[0mnp\u001b[0m\u001b[1;33m.\u001b[0m\u001b[0mdot\u001b[0m\u001b[1;33m(\u001b[0m\u001b[0mtx\u001b[0m\u001b[1;33m,\u001b[0m \u001b[0mw\u001b[0m\u001b[1;33m)\u001b[0m\u001b[1;33m\u001b[0m\u001b[1;33m\u001b[0m\u001b[0m\n\u001b[1;32m---> 22\u001b[1;33m     \u001b[0mgrad\u001b[0m \u001b[1;33m=\u001b[0m \u001b[1;33m-\u001b[0m\u001b[1;33m(\u001b[0m\u001b[1;36m1\u001b[0m\u001b[1;33m/\u001b[0m\u001b[0mlen\u001b[0m\u001b[1;33m(\u001b[0m\u001b[0my\u001b[0m\u001b[1;33m)\u001b[0m\u001b[1;33m)\u001b[0m \u001b[1;33m*\u001b[0m \u001b[0mnp\u001b[0m\u001b[1;33m.\u001b[0m\u001b[0mdot\u001b[0m\u001b[1;33m(\u001b[0m\u001b[0mtx\u001b[0m\u001b[1;33m.\u001b[0m\u001b[0mT\u001b[0m\u001b[1;33m,\u001b[0m \u001b[0me\u001b[0m\u001b[1;33m)\u001b[0m\u001b[1;33m\u001b[0m\u001b[1;33m\u001b[0m\u001b[0m\n\u001b[0m\u001b[0;32m     23\u001b[0m     \u001b[1;32mreturn\u001b[0m \u001b[0mgrad\u001b[0m\u001b[1;33m\u001b[0m\u001b[1;33m\u001b[0m\u001b[0m\n\u001b[0;32m     24\u001b[0m \u001b[1;33m\u001b[0m\u001b[0m\n",
      "\u001b[1;31mTypeError\u001b[0m: object of type 'numpy.float64' has no len()"
     ]
    }
   ],
   "source": [
    "max_iters = 10 \n",
    "gammas = [0.7, 0.1, 1e-5, 3e-7, 1e-7, 1e-8] #by testing the results: this seems to be the optimal value\n",
    "initial_w = np.ones((tX.shape[1],)) #number of parameters = number of features of x\n",
    "\n",
    "for gamma in gammas:\n",
    "    w_lsSGD, loss_lsSGD= least_squares_SGD(y, tX, initial_w, max_iters, gamma)\n",
    "    print('for gamma = {}, the loss is : {}'.format(gamma,loss_lsSGD))"
   ]
  },
  {
   "cell_type": "markdown",
   "metadata": {},
   "source": [
    "**3.Ridge Regression**"
   ]
  },
  {
   "cell_type": "code",
   "execution_count": 121,
   "metadata": {},
   "outputs": [
    {
     "name": "stdout",
     "output_type": "stream",
     "text": [
      "loss : 0.33970212095981306\n",
      "weight : [ 8.59661758e-05 -7.25581630e-03 -5.91500858e-03 -6.28440493e-04\n",
      " -2.06013731e-02  4.76457201e-04 -2.61552746e-02  3.14015392e-01\n",
      " -3.94780535e-05  5.29016855e-03 -2.15692112e-01  9.50636706e-02\n",
      "  6.47124854e-02  2.98414736e-03 -3.34919462e-04 -9.74571843e-04\n",
      "  7.51105655e-03 -5.29068195e-04  9.64635076e-04  3.74282698e-03\n",
      "  3.56397337e-04 -5.53042230e-04 -3.17014839e-01 -1.28064587e-03\n",
      "  7.56716570e-04  9.54285130e-04 -1.60509034e-03 -5.61219034e-03\n",
      " -1.07674380e-02 -4.94892129e-03]\n"
     ]
    }
   ],
   "source": [
    "lambda_ = 800 #doesn't seem to change anything, we almost sure to be overfitting : loss is very very small\n",
    "w_rr, loss_rr = ridge_regression(y, tX, lambda_)\n",
    "print('loss :', loss_rr)\n",
    "print('weight :', w_rr)"
   ]
  },
  {
   "cell_type": "markdown",
   "metadata": {},
   "source": [
    "**4.Logistic regression**"
   ]
  },
  {
   "cell_type": "code",
   "execution_count": 124,
   "metadata": {},
   "outputs": [
    {
     "name": "stderr",
     "output_type": "stream",
     "text": [
      "C:\\Users\\samsung\\ML_Projects\\project1\\scripts\\implementations.py:37: RuntimeWarning: overflow encountered in exp\n",
      "  loss+=np.log(1+np.exp(XiT_W)) - y[i]*XiT_W\n",
      "C:\\Users\\samsung\\ML_Projects\\project1\\scripts\\implementations.py:28: RuntimeWarning: overflow encountered in exp\n",
      "  return (np.exp(t)/(1+np.exp(t)))\n",
      "C:\\Users\\samsung\\ML_Projects\\project1\\scripts\\implementations.py:28: RuntimeWarning: invalid value encountered in true_divide\n",
      "  return (np.exp(t)/(1+np.exp(t)))\n"
     ]
    },
    {
     "name": "stdout",
     "output_type": "stream",
     "text": [
      "for gamma = 0.7, the loss is : nan\n",
      "for gamma = 0.1, the loss is : nan\n",
      "for gamma = 1e-05, the loss is : nan\n",
      "for gamma = 1e-06, the loss is : nan\n",
      "for gamma = 5e-07, the loss is : nan\n",
      "for gamma = 3e-07, the loss is : nan\n",
      "for gamma = 1e-07, the loss is : nan\n",
      "for gamma = 1e-08, the loss is : nan\n"
     ]
    }
   ],
   "source": [
    "\n",
    "max_iters = 10 \n",
    "gammas = [0.7, 0.1, 1e-5, 1e-6, 5e-7, 3e-7, 1e-7, 1e-8] #by testing the results: this seems to be the optimal value\n",
    "initial_w = np.zeros((tX.shape[1],)) #number of parameters = number of features of x\n",
    "\n",
    "#Note we use GD !!\n",
    "for gamma in gammas:\n",
    "    w_lr, loss_lr= logistic_regression(y, tX, initial_w, max_iters, gamma)\n",
    "    print('for gamma = {}, the loss is : {}'.format(gamma,loss_lr))"
   ]
  },
  {
   "cell_type": "code",
   "execution_count": 126,
   "metadata": {},
   "outputs": [
    {
     "name": "stdout",
     "output_type": "stream",
     "text": [
      "for gamma = 0.7, the loss is : nan\n",
      "for gamma = 0.1, the loss is : nan\n",
      "for gamma = 1e-05, the loss is : nan\n",
      "for gamma = 1e-06, the loss is : nan\n",
      "for gamma = 5e-07, the loss is : nan\n",
      "for gamma = 3e-07, the loss is : nan\n",
      "for gamma = 1e-07, the loss is : nan\n",
      "for gamma = 1e-08, the loss is : nan\n"
     ]
    }
   ],
   "source": [
    "#with regularization :\n",
    "max_iters = 10 \n",
    "lambda_ = 1\n",
    "gammas = [0.7, 0.1, 1e-5, 1e-6, 5e-7, 3e-7, 1e-7, 1e-8] #by testing the results: this seems to be the optimal value\n",
    "initial_w = np.zeros((tX.shape[1],)) #number of parameters = number of features of x\n",
    "\n",
    "#Note we use GD !!\n",
    "for gamma in gammas:\n",
    "    w_lr, loss_lr= reg_logistic_regression(y, tX, lambda_,initial_w, max_iters, gamma)\n",
    "    print('for gamma = {}, the loss is : {}'.format(gamma,loss_lr))"
   ]
  },
  {
   "cell_type": "markdown",
   "metadata": {},
   "source": [
    "## Generate predictions and save ouput in csv format for submission:"
   ]
  },
  {
   "cell_type": "code",
   "execution_count": 10,
   "metadata": {
    "collapsed": false,
    "jupyter": {
     "outputs_hidden": false
    }
   },
   "outputs": [],
   "source": [
    "DATA_TEST_PATH = '' # TODO: download train data and supply path here \n",
    "_, tX_test, ids_test = load_csv_data(DATA_TEST_PATH)"
   ]
  },
  {
   "cell_type": "code",
   "execution_count": 31,
   "metadata": {
    "collapsed": false,
    "jupyter": {
     "outputs_hidden": false
    }
   },
   "outputs": [],
   "source": [
    "OUTPUT_PATH = '' # TODO: fill in desired name of output file for submission\n",
    "y_pred = predict_labels(weights, tX_test)\n",
    "create_csv_submission(ids_test, y_pred, OUTPUT_PATH)"
   ]
  },
  {
   "cell_type": "code",
   "execution_count": null,
   "metadata": {
    "collapsed": true,
    "jupyter": {
     "outputs_hidden": true
    }
   },
   "outputs": [],
   "source": []
  }
 ],
 "metadata": {
  "anaconda-cloud": {},
  "kernelspec": {
   "display_name": "Python 3",
   "language": "python",
   "name": "python3"
  },
  "language_info": {
   "codemirror_mode": {
    "name": "ipython",
    "version": 3
   },
   "file_extension": ".py",
   "mimetype": "text/x-python",
   "name": "python",
   "nbconvert_exporter": "python",
   "pygments_lexer": "ipython3",
   "version": "3.8.5"
  }
 },
 "nbformat": 4,
 "nbformat_minor": 4
}
